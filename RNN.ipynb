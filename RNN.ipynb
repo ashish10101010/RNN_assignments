{
  "nbformat": 4,
  "nbformat_minor": 0,
  "metadata": {
    "colab": {
      "provenance": []
    },
    "kernelspec": {
      "name": "python3",
      "display_name": "Python 3"
    },
    "language_info": {
      "name": "python"
    }
  },
  "cells": [
    {
      "cell_type": "markdown",
      "source": [
        "# End-to-end project on RNN\n"
      ],
      "metadata": {
        "id": "6Ry8G916A5TP"
      }
    },
    {
      "cell_type": "markdown",
      "source": [
        "# Sentiment Analysis using RNN"
      ],
      "metadata": {
        "id": "OwJRGg2NkNfJ"
      }
    },
    {
      "cell_type": "code",
      "source": [
        "from keras.datasets import imdb\n",
        "imdb.load_data()"
      ],
      "metadata": {
        "id": "0nZszGClJybr"
      },
      "execution_count": null,
      "outputs": []
    },
    {
      "cell_type": "code",
      "source": [
        "from keras import Sequential\n",
        "from keras.layers import Dense, SimpleRNN, Embedding, Flatten"
      ],
      "metadata": {
        "id": "oyy8LVrskMRN"
      },
      "execution_count": null,
      "outputs": []
    },
    {
      "cell_type": "code",
      "source": [
        "(X_train, y_train), (X_test, y_test) = imdb.load_data()"
      ],
      "metadata": {
        "id": "QbxMY14EkMVK"
      },
      "execution_count": null,
      "outputs": []
    },
    {
      "cell_type": "code",
      "source": [
        "print(len(X_train[0]))\n",
        "print(len(X_train[2]))"
      ],
      "metadata": {
        "colab": {
          "base_uri": "https://localhost:8080/"
        },
        "id": "3zoc-1HnkMZJ",
        "outputId": "cf106742-4309-4116-bb15-052d9fc82de5"
      },
      "execution_count": null,
      "outputs": [
        {
          "output_type": "stream",
          "name": "stdout",
          "text": [
            "218\n",
            "141\n"
          ]
        }
      ]
    },
    {
      "cell_type": "code",
      "source": [
        "print(y_train[7])\n",
        "print(y_train[0])"
      ],
      "metadata": {
        "colab": {
          "base_uri": "https://localhost:8080/"
        },
        "id": "HTiMHFh8kMbc",
        "outputId": "c1397966-394b-4edc-b528-4495a450fae4"
      },
      "execution_count": null,
      "outputs": [
        {
          "output_type": "stream",
          "name": "stdout",
          "text": [
            "0\n",
            "1\n"
          ]
        }
      ]
    },
    {
      "cell_type": "code",
      "source": [
        "from keras.utils import pad_sequences\n",
        "maxlen = 500\n",
        "\n",
        "X_train = pad_sequences(X_train,maxlen = maxlen, padding = 'post')\n",
        "X_test = pad_sequences(X_test,maxlen = maxlen, padding = 'post')"
      ],
      "metadata": {
        "id": "__AYunlLkMdy"
      },
      "execution_count": null,
      "outputs": []
    },
    {
      "cell_type": "code",
      "source": [
        "X_train[0]"
      ],
      "metadata": {
        "id": "vFfmXSNZqiMw"
      },
      "execution_count": null,
      "outputs": []
    },
    {
      "cell_type": "code",
      "source": [
        "print(len(X_train[0]))\n",
        "print(len(X_train[2]))"
      ],
      "metadata": {
        "colab": {
          "base_uri": "https://localhost:8080/"
        },
        "id": "uz5imjTaqiQ-",
        "outputId": "6a633ecb-dd4f-4135-e65f-68280bd6959f"
      },
      "execution_count": null,
      "outputs": [
        {
          "output_type": "stream",
          "name": "stdout",
          "text": [
            "500\n",
            "500\n"
          ]
        }
      ]
    },
    {
      "cell_type": "markdown",
      "source": [
        "## model Architecture"
      ],
      "metadata": {
        "id": "G4ErizM3xL-s"
      }
    },
    {
      "cell_type": "code",
      "source": [
        "model = Sequential()\n",
        "model.add(SimpleRNN(32, input_shape = (500,1), return_sequences= False))\n",
        "model.add(Dense(1, activation = 'sigmoid'))"
      ],
      "metadata": {
        "id": "zB0sFt_1qiUY"
      },
      "execution_count": null,
      "outputs": []
    },
    {
      "cell_type": "code",
      "source": [
        "model.summary()"
      ],
      "metadata": {
        "colab": {
          "base_uri": "https://localhost:8080/"
        },
        "id": "kH9vWyp-rrGN",
        "outputId": "db100734-2d58-4517-ec87-ea6c3f001766"
      },
      "execution_count": null,
      "outputs": [
        {
          "output_type": "stream",
          "name": "stdout",
          "text": [
            "Model: \"sequential\"\n",
            "_________________________________________________________________\n",
            " Layer (type)                Output Shape              Param #   \n",
            "=================================================================\n",
            " simple_rnn (SimpleRNN)      (None, 32)                1088      \n",
            "                                                                 \n",
            " dense (Dense)               (None, 1)                 33        \n",
            "                                                                 \n",
            "=================================================================\n",
            "Total params: 1121 (4.38 KB)\n",
            "Trainable params: 1121 (4.38 KB)\n",
            "Non-trainable params: 0 (0.00 Byte)\n",
            "_________________________________________________________________\n"
          ]
        }
      ]
    },
    {
      "cell_type": "code",
      "source": [
        "model.compile(metrics = ['accuracy'], optimizer = 'adam', loss = 'binary_crossentropy')"
      ],
      "metadata": {
        "id": "6Pll0XZ3rrKw"
      },
      "execution_count": null,
      "outputs": []
    },
    {
      "cell_type": "code",
      "source": [
        "# model Training\n",
        "model.fit(X_train, y_train, epochs = 5, validation_data = (X_test, y_test))"
      ],
      "metadata": {
        "colab": {
          "base_uri": "https://localhost:8080/"
        },
        "id": "tG9liyRUrrOA",
        "outputId": "42f0ee00-cb1e-48c0-9a76-a87293315dee"
      },
      "execution_count": null,
      "outputs": [
        {
          "output_type": "stream",
          "name": "stdout",
          "text": [
            "Epoch 1/5\n",
            "782/782 [==============================] - 74s 92ms/step - loss: 0.6942 - accuracy: 0.5073 - val_loss: 0.6952 - val_accuracy: 0.5003\n",
            "Epoch 2/5\n",
            "782/782 [==============================] - 71s 91ms/step - loss: 0.6941 - accuracy: 0.5077 - val_loss: 0.6935 - val_accuracy: 0.5046\n",
            "Epoch 3/5\n",
            "782/782 [==============================] - 70s 90ms/step - loss: 0.6934 - accuracy: 0.5054 - val_loss: 0.6952 - val_accuracy: 0.5047\n",
            "Epoch 4/5\n",
            "782/782 [==============================] - 71s 91ms/step - loss: 0.6937 - accuracy: 0.5024 - val_loss: 0.6940 - val_accuracy: 0.5048\n",
            "Epoch 5/5\n",
            "782/782 [==============================] - 77s 99ms/step - loss: 0.6939 - accuracy: 0.5040 - val_loss: 0.6953 - val_accuracy: 0.5044\n"
          ]
        },
        {
          "output_type": "execute_result",
          "data": {
            "text/plain": [
              "<keras.src.callbacks.History at 0x7e7b3c57d480>"
            ]
          },
          "metadata": {},
          "execution_count": 39
        }
      ]
    },
    {
      "cell_type": "code",
      "source": [
        "# model prediction\n",
        "\n",
        "model.predict(X_test)"
      ],
      "metadata": {
        "colab": {
          "base_uri": "https://localhost:8080/"
        },
        "id": "FcD7A0cRrrQ8",
        "outputId": "6cd3107c-9493-4548-f0d0-79675f045d19"
      },
      "execution_count": null,
      "outputs": [
        {
          "output_type": "stream",
          "name": "stdout",
          "text": [
            "782/782 [==============================] - 17s 22ms/step\n"
          ]
        },
        {
          "output_type": "execute_result",
          "data": {
            "text/plain": [
              "array([[0.46283552],\n",
              "       [0.46283552],\n",
              "       [0.56522375],\n",
              "       ...,\n",
              "       [0.46283552],\n",
              "       [0.46283552],\n",
              "       [0.46283552]], dtype=float32)"
            ]
          },
          "metadata": {},
          "execution_count": 43
        }
      ]
    }
  ]
}