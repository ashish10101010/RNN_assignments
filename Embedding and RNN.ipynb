{
  "nbformat": 4,
  "nbformat_minor": 0,
  "metadata": {
    "colab": {
      "provenance": []
    },
    "kernelspec": {
      "name": "python3",
      "display_name": "Python 3"
    },
    "language_info": {
      "name": "python"
    }
  },
  "cells": [
    {
      "cell_type": "markdown",
      "source": [
        "#Using Embedding and RNN on IMDB dataset\n"
      ],
      "metadata": {
        "id": "6Ry8G916A5TP"
      }
    },
    {
      "cell_type": "code",
      "source": [
        "import numpy as np"
      ],
      "metadata": {
        "id": "ENCypiPkJyCY"
      },
      "execution_count": null,
      "outputs": []
    },
    {
      "cell_type": "code",
      "source": [
        "from keras.datasets import imdb\n",
        "from keras import Sequential\n",
        "from keras.layers import Dense, SimpleRNN, Embedding, Flatten\n",
        "from keras.utils import pad_sequences"
      ],
      "metadata": {
        "id": "fNh1ltBmddzx"
      },
      "execution_count": null,
      "outputs": []
    },
    {
      "cell_type": "code",
      "source": [
        "(X_train, y_train), (X_test, y_test) = imdb.load_data(num_words = 10000)"
      ],
      "metadata": {
        "id": "IqgtIBt4dd1h"
      },
      "execution_count": null,
      "outputs": []
    },
    {
      "cell_type": "code",
      "source": [
        "# Data processing\n",
        "# Step - 1  : Visualization of the data\n",
        "# Step - 2: Zero Padding\n",
        "X_train = pad_sequences(X_train, padding = 'post', maxlen = 50)\n",
        "X_test = pad_sequences(X_test, padding = 'post', maxlen = 50)"
      ],
      "metadata": {
        "id": "9R-j2HwNdd4C"
      },
      "execution_count": null,
      "outputs": []
    },
    {
      "cell_type": "code",
      "source": [
        "X_train"
      ],
      "metadata": {
        "colab": {
          "base_uri": "https://localhost:8080/"
        },
        "id": "V0S3VBrzioWx",
        "outputId": "23f37263-a970-4dcf-ccf9-694a0f239d9a"
      },
      "execution_count": null,
      "outputs": [
        {
          "output_type": "execute_result",
          "data": {
            "text/plain": [
              "array([[2071,   56,   26, ...,   19,  178,   32],\n",
              "       [8255,    5,    2, ...,   16,  145,   95],\n",
              "       [ 215,   28,  610, ...,    7,  129,  113],\n",
              "       ...,\n",
              "       [   4,   65,  496, ...,    4, 3586,    2],\n",
              "       [  13,   18,   31, ...,   12,    9,   23],\n",
              "       [7585,    8, 2197, ...,  204,  131,    9]], dtype=int32)"
            ]
          },
          "metadata": {},
          "execution_count": 16
        }
      ]
    },
    {
      "cell_type": "code",
      "source": [
        "X_train.shape"
      ],
      "metadata": {
        "colab": {
          "base_uri": "https://localhost:8080/"
        },
        "id": "yNEm4mGXm-Fj",
        "outputId": "05ac6327-e140-4498-f14d-b08e31560107"
      },
      "execution_count": null,
      "outputs": [
        {
          "output_type": "execute_result",
          "data": {
            "text/plain": [
              "(25000, 50)"
            ]
          },
          "metadata": {},
          "execution_count": 6
        }
      ]
    },
    {
      "cell_type": "code",
      "source": [
        "print(len(X_train[0]))\n",
        "print(len(X_train[4]))"
      ],
      "metadata": {
        "colab": {
          "base_uri": "https://localhost:8080/"
        },
        "id": "2ewg-HuYisro",
        "outputId": "14ecbf7d-efd7-4ffa-e9ca-58668e81a56e"
      },
      "execution_count": null,
      "outputs": [
        {
          "output_type": "stream",
          "name": "stdout",
          "text": [
            "50\n",
            "50\n"
          ]
        }
      ]
    },
    {
      "cell_type": "code",
      "source": [
        "# model architecture\n",
        "model = Sequential()\n",
        "model.add(Embedding(input_dim = 10000, output_dim = 2, input_length = 50))\n",
        "model.add(SimpleRNN(32, input_shape = (50,1), return_sequences=False))\n",
        "model.add(Dense(1,activation = 'sigmoid'))\n",
        "\n",
        "model.summary()"
      ],
      "metadata": {
        "colab": {
          "base_uri": "https://localhost:8080/"
        },
        "id": "E5Au_008hbYJ",
        "outputId": "91c0b755-a5f2-4d55-8605-d4bb1ac9ec1a"
      },
      "execution_count": null,
      "outputs": [
        {
          "output_type": "stream",
          "name": "stdout",
          "text": [
            "Model: \"sequential_6\"\n",
            "_________________________________________________________________\n",
            " Layer (type)                Output Shape              Param #   \n",
            "=================================================================\n",
            " embedding_6 (Embedding)     (None, 50, 2)             20000     \n",
            "                                                                 \n",
            " simple_rnn_9 (SimpleRNN)    (None, 32)                1120      \n",
            "                                                                 \n",
            " dense_5 (Dense)             (None, 1)                 33        \n",
            "                                                                 \n",
            "=================================================================\n",
            "Total params: 21153 (82.63 KB)\n",
            "Trainable params: 21153 (82.63 KB)\n",
            "Non-trainable params: 0 (0.00 Byte)\n",
            "_________________________________________________________________\n"
          ]
        }
      ]
    },
    {
      "cell_type": "code",
      "source": [
        "# model compile\n",
        "model.compile(metrics = ['acc'], optimizer = 'adam', loss = 'binary_crossentropy')"
      ],
      "metadata": {
        "id": "siNAtlZwhbqp"
      },
      "execution_count": null,
      "outputs": []
    },
    {
      "cell_type": "code",
      "source": [
        "# model train\n",
        "# model Training\n",
        "model.fit(X_train, y_train, epochs = 5, validation_data = (X_test, y_test))"
      ],
      "metadata": {
        "id": "t-GjHR2Ghx6t",
        "colab": {
          "base_uri": "https://localhost:8080/"
        },
        "outputId": "7b38c61d-ce19-4d4e-a550-94388e7258d3"
      },
      "execution_count": null,
      "outputs": [
        {
          "output_type": "stream",
          "name": "stdout",
          "text": [
            "Epoch 1/5\n",
            "782/782 [==============================] - 17s 22ms/step - loss: 0.4223 - acc: 0.8096 - val_loss: 0.4127 - val_acc: 0.8150\n",
            "Epoch 2/5\n",
            "782/782 [==============================] - 27s 34ms/step - loss: 0.3299 - acc: 0.8624 - val_loss: 0.4233 - val_acc: 0.8080\n",
            "Epoch 3/5\n",
            "782/782 [==============================] - 16s 20ms/step - loss: 0.2762 - acc: 0.8896 - val_loss: 0.4730 - val_acc: 0.8063\n",
            "Epoch 4/5\n",
            "782/782 [==============================] - 15s 19ms/step - loss: 0.2319 - acc: 0.9109 - val_loss: 0.4863 - val_acc: 0.7972\n",
            "Epoch 5/5\n",
            "782/782 [==============================] - 15s 19ms/step - loss: 0.1975 - acc: 0.9276 - val_loss: 0.5344 - val_acc: 0.7826\n"
          ]
        },
        {
          "output_type": "execute_result",
          "data": {
            "text/plain": [
              "<keras.src.callbacks.History at 0x7ef25fbbabf0>"
            ]
          },
          "metadata": {},
          "execution_count": 20
        }
      ]
    },
    {
      "cell_type": "code",
      "source": [
        "# Prediction\n",
        "X_test[0][0:50].reshape(1,-1).shape"
      ],
      "metadata": {
        "id": "LRZwptXBhx_E",
        "colab": {
          "base_uri": "https://localhost:8080/"
        },
        "outputId": "6b00a4a6-9dec-4a90-f1b5-2b4eb6658fcf"
      },
      "execution_count": null,
      "outputs": [
        {
          "output_type": "execute_result",
          "data": {
            "text/plain": [
              "(1, 50)"
            ]
          },
          "metadata": {},
          "execution_count": 25
        }
      ]
    },
    {
      "cell_type": "code",
      "source": [
        "test_data = X_test[0][0:50].reshape(1,-1)"
      ],
      "metadata": {
        "id": "N0PAn0TlpVJ_"
      },
      "execution_count": null,
      "outputs": []
    },
    {
      "cell_type": "code",
      "source": [
        "if model.predict(test_data) < 0.5:\n",
        "  print('negative review')\n",
        "else:\n",
        "  print('positive review')\n"
      ],
      "metadata": {
        "colab": {
          "base_uri": "https://localhost:8080/"
        },
        "id": "nkr2TGS3pa6T",
        "outputId": "dc203c6d-0a01-4fcc-ca57-55ab6d174720"
      },
      "execution_count": null,
      "outputs": [
        {
          "output_type": "stream",
          "name": "stdout",
          "text": [
            "1/1 [==============================] - 0s 37ms/step\n",
            "negative review\n"
          ]
        }
      ]
    }
  ]
}